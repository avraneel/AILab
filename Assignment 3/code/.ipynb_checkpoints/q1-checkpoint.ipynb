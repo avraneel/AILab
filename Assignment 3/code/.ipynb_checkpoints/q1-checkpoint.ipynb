{
 "cells": [
  {
   "cell_type": "code",
   "execution_count": 5,
   "metadata": {
    "tags": []
   },
   "outputs": [],
   "source": [
    "import random\n",
    "import numpy as np"
   ]
  },
  {
   "cell_type": "code",
   "execution_count": 83,
   "metadata": {
    "tags": []
   },
   "outputs": [
    {
     "name": "stdout",
     "output_type": "stream",
     "text": [
      "[4 0 6 7]\n",
      "[0.1 0.2 0.2 0.4 0.4 0.6 0.3 0.7 0.5 0.5]\n",
      "[[4.  1.  8.  6.  3.  2.  5.  8.  6.  7. ]\n",
      " [4.  1.  8.  6.  7.  9.  3.  1.  2.  3.6]\n",
      " [4.  1.  8.  6.  3.  2.  5.  8.  6.  7. ]\n",
      " [4.  1.  8.  6.  7.  9.  3.  1.  2.  3.6]]\n"
     ]
    }
   ],
   "source": [
    "# initializing\n",
    "m = 10\n",
    "b = 0.1*np.array([1,2,2,4,4,6,3,7,5,5]);\n",
    "x = np.array([random.randint(0,10) for x in range(4)])\n",
    "print(x)\n",
    "print(b)\n",
    "C = np.zeros((4,10))\n",
    "for i in range(0, 4, 1):\n",
    "    C[i][0] = 4.0;\n",
    "    C[i][1] = 1.0;\n",
    "    C[i][2] = 8.0;\n",
    "    C[i][3] = 6.0;\n",
    "    if i % 2 == 0:\n",
    "        C[i][4] = 3.0;\n",
    "        C[i][5] = 2.0;\n",
    "        C[i][6] = 5.0;\n",
    "        C[i][7] = 8.0;\n",
    "        C[i][8] = 6.0;\n",
    "        C[i][9] = 7.0;\n",
    "    else:\n",
    "        C[i][4] = 7.0;\n",
    "        C[i][5] = 9.0;\n",
    "        C[i][6] = 3.0;\n",
    "        C[i][7] = 1.0;\n",
    "        C[i][8] = 2.0;\n",
    "        C[i][9] = 3.6;\n",
    "print(C)"
   ]
  },
  {
   "cell_type": "code",
   "execution_count": 87,
   "metadata": {
    "tags": []
   },
   "outputs": [
    {
     "name": "stdout",
     "output_type": "stream",
     "text": [
      "1.0\n"
     ]
    }
   ],
   "source": [
    "t = 0;\n",
    "for i in range(1,m,1):\n",
    "    for j in range(1,4,1):\n",
    "        t += pow(x[j] - C[j][i], 2)\n",
    "    t += b[i];\n",
    "    y += 1/t;"
   ]
  }
 ],
 "metadata": {
  "kernelspec": {
   "display_name": "Python 3 (ipykernel)",
   "language": "python",
   "name": "python3"
  },
  "language_info": {
   "codemirror_mode": {
    "name": "ipython",
    "version": 3
   },
   "file_extension": ".py",
   "mimetype": "text/x-python",
   "name": "python",
   "nbconvert_exporter": "python",
   "pygments_lexer": "ipython3",
   "version": "3.11.2"
  }
 },
 "nbformat": 4,
 "nbformat_minor": 4
}
