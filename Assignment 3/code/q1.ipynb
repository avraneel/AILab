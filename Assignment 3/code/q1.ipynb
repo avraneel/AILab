{
 "cells": [
  {
   "cell_type": "code",
   "execution_count": 5,
   "metadata": {
    "tags": []
   },
   "outputs": [],
   "source": [
    "import random\n",
    "import numpy as np"
   ]
  },
  {
   "cell_type": "code",
   "execution_count": 260,
   "metadata": {
    "tags": []
   },
   "outputs": [
    {
     "name": "stdout",
     "output_type": "stream",
     "text": [
      "[('0011', '0100', '1001', '0100', -0.04934840627642108), ('1000', '0001', '0101', '0001', -0.09185426661338403), ('0000', '1000', '0101', '0000', -0.04443435657712949), ('0010', '1001', '0101', '0100', -0.05312197823083478), ('1010', '1010', '1000', '0010', -0.032688491563018646), ('0011', '1001', '1001', '1001', -0.029021519241087406), ('1001', '0110', '1010', '1001', -0.03102394246470449), ('1000', '1010', '1001', '0100', -0.031813448801078725), ('0110', '0100', '1000', '1010', -0.03564250660836392), ('0101', '1001', '0010', '0110', -0.048550578523086155), ('0010', '1000', '0101', '0110', -0.062158813155725426), ('0101', '0110', '0001', '0111', -0.058074954337822754), ('0001', '1001', '0000', '0010', -0.04001319901715018), ('0101', '0101', '0101', '0010', -0.07917828744904927), ('0110', '1010', '1000', '0000', -0.02805760337935791), ('1000', '0011', '0101', '0100', -0.08931483468675801), ('0010', '0101', '0000', '0101', -0.06784200351215276), ('0001', '0110', '0111', '0010', -0.05793653228461951), ('0001', '0000', '0100', '1010', -0.03434801473482371), ('0111', '0110', '1001', '0011', -0.0458220922037223)]\n"
     ]
    }
   ],
   "source": [
    "# initializing\n",
    "t = 0\n",
    "y = 0\n",
    "b = 0.1*np.array([1,2,2,4,4,6,3,7,5,5]);\n",
    "C = np.zeros((4,10))\n",
    "for i in range(0, 4, 1):\n",
    "    C[i][0] = 4.0;\n",
    "    C[i][1] = 1.0;\n",
    "    C[i][2] = 8.0;\n",
    "    C[i][3] = 6.0;\n",
    "    if i % 2 == 0:\n",
    "        C[i][4] = 3.0;\n",
    "        C[i][5] = 2.0;\n",
    "        C[i][6] = 5.0;\n",
    "        C[i][7] = 8.0;\n",
    "        C[i][8] = 6.0;\n",
    "        C[i][9] = 7.0;\n",
    "    else:\n",
    "        C[i][4] = 7.0;\n",
    "        C[i][5] = 9.0;\n",
    "        C[i][6] = 3.0;\n",
    "        C[i][7] = 1.0;\n",
    "        C[i][8] = 2.0;\n",
    "        C[i][9] = 3.6;\n",
    "x = np.array([[random.randint(0,10) for j in range(4)] for i in range(20)])\n",
    "encoded = np.array([[bin(x[i][j])[2:].zfill(4) for j in range(4)] for i in range(20)])\n",
    "\n",
    "def f(x, n):\n",
    "    m = 10\n",
    "    t = 0\n",
    "    y = 0\n",
    "    for i in range(1,m,1):\n",
    "        for j in range(1,4,1):\n",
    "            t += pow(x[n][j] - C[j][i], 2)\n",
    "        t += b[i];\n",
    "        y += 1/t;\n",
    "    y = -1*y;\n",
    "    return y;\n",
    "\n",
    "fitness_pairs = [(encoded[i][0], encoded[i][1], encoded[i][2], encoded[i][3], f(x, i)) for i in range(20)]\n",
    "print(fitness_pairs)"
   ]
  },
  {
   "cell_type": "code",
   "execution_count": 111,
   "metadata": {
    "tags": []
   },
   "outputs": [
    {
     "name": "stdout",
     "output_type": "stream",
     "text": [
      "1.0\n"
     ]
    }
   ],
   "source": []
  }
 ],
 "metadata": {
  "kernelspec": {
   "display_name": "Python 3 (ipykernel)",
   "language": "python",
   "name": "python3"
  },
  "language_info": {
   "codemirror_mode": {
    "name": "ipython",
    "version": 3
   },
   "file_extension": ".py",
   "mimetype": "text/x-python",
   "name": "python",
   "nbconvert_exporter": "python",
   "pygments_lexer": "ipython3",
   "version": "3.11.2"
  }
 },
 "nbformat": 4,
 "nbformat_minor": 4
}
